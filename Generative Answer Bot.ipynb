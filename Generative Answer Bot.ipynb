{
 "cells": [
  {
   "cell_type": "markdown",
   "metadata": {},
   "source": [
    "# **Generative Answer Chat Bot**"
   ]
  },
  {
   "cell_type": "code",
   "execution_count": 89,
   "metadata": {},
   "outputs": [],
   "source": [
    "import re\n",
    "\n",
    "import pandas as pd\n",
    "\n",
    "import matplotlib.pyplot as plt\n",
    "import seaborn as sns"
   ]
  },
  {
   "cell_type": "code",
   "execution_count": 90,
   "metadata": {},
   "outputs": [],
   "source": [
    "questions = pd.read_csv('/Users/kellyshreeve/Desktop/Data-Sets/Questions.csv', parse_dates = True, encoding='latin-1')\n",
    "answers = pd.read_csv('/Users/kellyshreeve/Desktop/Data-Sets/Answers.csv', parse_dates=True, encoding='latin-1')\n",
    "tags = pd.read_csv('/Users/kellyshreeve/Desktop/Data-Sets/Tags.csv', encoding='latin-1')"
   ]
  },
  {
   "cell_type": "code",
   "execution_count": 91,
   "metadata": {},
   "outputs": [
    {
     "name": "stdout",
     "output_type": "stream",
     "text": [
      "<class 'pandas.core.frame.DataFrame'>\n",
      "RangeIndex: 607282 entries, 0 to 607281\n",
      "Data columns (total 6 columns):\n",
      " #   Column        Non-Null Count   Dtype  \n",
      "---  ------        --------------   -----  \n",
      " 0   Id            607282 non-null  int64  \n",
      " 1   OwnerUserId   601070 non-null  float64\n",
      " 2   CreationDate  607282 non-null  object \n",
      " 3   Score         607282 non-null  int64  \n",
      " 4   Title         607282 non-null  object \n",
      " 5   Body          607282 non-null  object \n",
      "dtypes: float64(1), int64(2), object(3)\n",
      "memory usage: 27.8+ MB\n"
     ]
    }
   ],
   "source": [
    "questions.info()"
   ]
  },
  {
   "cell_type": "code",
   "execution_count": 92,
   "metadata": {},
   "outputs": [
    {
     "name": "stdout",
     "output_type": "stream",
     "text": [
      "<class 'pandas.core.frame.DataFrame'>\n",
      "RangeIndex: 987122 entries, 0 to 987121\n",
      "Data columns (total 6 columns):\n",
      " #   Column        Non-Null Count   Dtype  \n",
      "---  ------        --------------   -----  \n",
      " 0   Id            987122 non-null  int64  \n",
      " 1   OwnerUserId   981755 non-null  float64\n",
      " 2   CreationDate  987122 non-null  object \n",
      " 3   ParentId      987122 non-null  int64  \n",
      " 4   Score         987122 non-null  int64  \n",
      " 5   Body          987122 non-null  object \n",
      "dtypes: float64(1), int64(3), object(2)\n",
      "memory usage: 45.2+ MB\n"
     ]
    }
   ],
   "source": [
    "answers.info()"
   ]
  },
  {
   "cell_type": "code",
   "execution_count": 93,
   "metadata": {},
   "outputs": [
    {
     "name": "stdout",
     "output_type": "stream",
     "text": [
      "<class 'pandas.core.frame.DataFrame'>\n",
      "RangeIndex: 1885078 entries, 0 to 1885077\n",
      "Data columns (total 2 columns):\n",
      " #   Column  Dtype \n",
      "---  ------  ----- \n",
      " 0   Id      int64 \n",
      " 1   Tag     object\n",
      "dtypes: int64(1), object(1)\n",
      "memory usage: 28.8+ MB\n"
     ]
    }
   ],
   "source": [
    "tags.info()"
   ]
  },
  {
   "cell_type": "code",
   "execution_count": 94,
   "metadata": {},
   "outputs": [
    {
     "data": {
      "text/html": [
       "<div>\n",
       "<style scoped>\n",
       "    .dataframe tbody tr th:only-of-type {\n",
       "        vertical-align: middle;\n",
       "    }\n",
       "\n",
       "    .dataframe tbody tr th {\n",
       "        vertical-align: top;\n",
       "    }\n",
       "\n",
       "    .dataframe thead th {\n",
       "        text-align: right;\n",
       "    }\n",
       "</style>\n",
       "<table border=\"1\" class=\"dataframe\">\n",
       "  <thead>\n",
       "    <tr style=\"text-align: right;\">\n",
       "      <th></th>\n",
       "      <th>Id</th>\n",
       "      <th>OwnerUserId</th>\n",
       "      <th>CreationDate</th>\n",
       "      <th>Score</th>\n",
       "      <th>Title</th>\n",
       "      <th>Body</th>\n",
       "    </tr>\n",
       "  </thead>\n",
       "  <tbody>\n",
       "    <tr>\n",
       "      <th>0</th>\n",
       "      <td>469</td>\n",
       "      <td>147.0</td>\n",
       "      <td>2008-08-02T15:11:16Z</td>\n",
       "      <td>21</td>\n",
       "      <td>How can I find the full path to a font from it...</td>\n",
       "      <td>&lt;p&gt;I am using the Photoshop's javascript API t...</td>\n",
       "    </tr>\n",
       "    <tr>\n",
       "      <th>1</th>\n",
       "      <td>502</td>\n",
       "      <td>147.0</td>\n",
       "      <td>2008-08-02T17:01:58Z</td>\n",
       "      <td>27</td>\n",
       "      <td>Get a preview JPEG of a PDF on Windows?</td>\n",
       "      <td>&lt;p&gt;I have a cross-platform (Python) applicatio...</td>\n",
       "    </tr>\n",
       "    <tr>\n",
       "      <th>2</th>\n",
       "      <td>535</td>\n",
       "      <td>154.0</td>\n",
       "      <td>2008-08-02T18:43:54Z</td>\n",
       "      <td>40</td>\n",
       "      <td>Continuous Integration System for a Python Cod...</td>\n",
       "      <td>&lt;p&gt;I'm starting work on a hobby project with a...</td>\n",
       "    </tr>\n",
       "    <tr>\n",
       "      <th>3</th>\n",
       "      <td>594</td>\n",
       "      <td>116.0</td>\n",
       "      <td>2008-08-03T01:15:08Z</td>\n",
       "      <td>25</td>\n",
       "      <td>cx_Oracle: How do I iterate over a result set?</td>\n",
       "      <td>&lt;p&gt;There are several ways to iterate over a re...</td>\n",
       "    </tr>\n",
       "    <tr>\n",
       "      <th>4</th>\n",
       "      <td>683</td>\n",
       "      <td>199.0</td>\n",
       "      <td>2008-08-03T13:19:16Z</td>\n",
       "      <td>28</td>\n",
       "      <td>Using 'in' to match an attribute of Python obj...</td>\n",
       "      <td>&lt;p&gt;I don't remember whether I was dreaming or ...</td>\n",
       "    </tr>\n",
       "  </tbody>\n",
       "</table>\n",
       "</div>"
      ],
      "text/plain": [
       "    Id  OwnerUserId          CreationDate  Score  \\\n",
       "0  469        147.0  2008-08-02T15:11:16Z     21   \n",
       "1  502        147.0  2008-08-02T17:01:58Z     27   \n",
       "2  535        154.0  2008-08-02T18:43:54Z     40   \n",
       "3  594        116.0  2008-08-03T01:15:08Z     25   \n",
       "4  683        199.0  2008-08-03T13:19:16Z     28   \n",
       "\n",
       "                                               Title  \\\n",
       "0  How can I find the full path to a font from it...   \n",
       "1            Get a preview JPEG of a PDF on Windows?   \n",
       "2  Continuous Integration System for a Python Cod...   \n",
       "3     cx_Oracle: How do I iterate over a result set?   \n",
       "4  Using 'in' to match an attribute of Python obj...   \n",
       "\n",
       "                                                Body  \n",
       "0  <p>I am using the Photoshop's javascript API t...  \n",
       "1  <p>I have a cross-platform (Python) applicatio...  \n",
       "2  <p>I'm starting work on a hobby project with a...  \n",
       "3  <p>There are several ways to iterate over a re...  \n",
       "4  <p>I don't remember whether I was dreaming or ...  "
      ]
     },
     "execution_count": 94,
     "metadata": {},
     "output_type": "execute_result"
    }
   ],
   "source": [
    "questions.head()"
   ]
  },
  {
   "cell_type": "code",
   "execution_count": 95,
   "metadata": {},
   "outputs": [
    {
     "data": {
      "text/html": [
       "<div>\n",
       "<style scoped>\n",
       "    .dataframe tbody tr th:only-of-type {\n",
       "        vertical-align: middle;\n",
       "    }\n",
       "\n",
       "    .dataframe tbody tr th {\n",
       "        vertical-align: top;\n",
       "    }\n",
       "\n",
       "    .dataframe thead th {\n",
       "        text-align: right;\n",
       "    }\n",
       "</style>\n",
       "<table border=\"1\" class=\"dataframe\">\n",
       "  <thead>\n",
       "    <tr style=\"text-align: right;\">\n",
       "      <th></th>\n",
       "      <th>Id</th>\n",
       "      <th>OwnerUserId</th>\n",
       "      <th>CreationDate</th>\n",
       "      <th>ParentId</th>\n",
       "      <th>Score</th>\n",
       "      <th>Body</th>\n",
       "    </tr>\n",
       "  </thead>\n",
       "  <tbody>\n",
       "    <tr>\n",
       "      <th>0</th>\n",
       "      <td>497</td>\n",
       "      <td>50.0</td>\n",
       "      <td>2008-08-02T16:56:53Z</td>\n",
       "      <td>469</td>\n",
       "      <td>4</td>\n",
       "      <td>&lt;p&gt;open up a terminal (Applications-&amp;gt;Utilit...</td>\n",
       "    </tr>\n",
       "    <tr>\n",
       "      <th>1</th>\n",
       "      <td>518</td>\n",
       "      <td>153.0</td>\n",
       "      <td>2008-08-02T17:42:28Z</td>\n",
       "      <td>469</td>\n",
       "      <td>2</td>\n",
       "      <td>&lt;p&gt;I haven't been able to find anything that d...</td>\n",
       "    </tr>\n",
       "    <tr>\n",
       "      <th>2</th>\n",
       "      <td>536</td>\n",
       "      <td>161.0</td>\n",
       "      <td>2008-08-02T18:49:07Z</td>\n",
       "      <td>502</td>\n",
       "      <td>9</td>\n",
       "      <td>&lt;p&gt;You can use ImageMagick's convert utility f...</td>\n",
       "    </tr>\n",
       "    <tr>\n",
       "      <th>3</th>\n",
       "      <td>538</td>\n",
       "      <td>156.0</td>\n",
       "      <td>2008-08-02T18:56:56Z</td>\n",
       "      <td>535</td>\n",
       "      <td>23</td>\n",
       "      <td>&lt;p&gt;One possibility is Hudson.  It's written in...</td>\n",
       "    </tr>\n",
       "    <tr>\n",
       "      <th>4</th>\n",
       "      <td>541</td>\n",
       "      <td>157.0</td>\n",
       "      <td>2008-08-02T19:06:40Z</td>\n",
       "      <td>535</td>\n",
       "      <td>20</td>\n",
       "      <td>&lt;p&gt;We run &lt;a href=\"http://buildbot.net/trac\"&gt;B...</td>\n",
       "    </tr>\n",
       "  </tbody>\n",
       "</table>\n",
       "</div>"
      ],
      "text/plain": [
       "    Id  OwnerUserId          CreationDate  ParentId  Score  \\\n",
       "0  497         50.0  2008-08-02T16:56:53Z       469      4   \n",
       "1  518        153.0  2008-08-02T17:42:28Z       469      2   \n",
       "2  536        161.0  2008-08-02T18:49:07Z       502      9   \n",
       "3  538        156.0  2008-08-02T18:56:56Z       535     23   \n",
       "4  541        157.0  2008-08-02T19:06:40Z       535     20   \n",
       "\n",
       "                                                Body  \n",
       "0  <p>open up a terminal (Applications-&gt;Utilit...  \n",
       "1  <p>I haven't been able to find anything that d...  \n",
       "2  <p>You can use ImageMagick's convert utility f...  \n",
       "3  <p>One possibility is Hudson.  It's written in...  \n",
       "4  <p>We run <a href=\"http://buildbot.net/trac\">B...  "
      ]
     },
     "execution_count": 95,
     "metadata": {},
     "output_type": "execute_result"
    }
   ],
   "source": [
    "answers.head()"
   ]
  },
  {
   "cell_type": "code",
   "execution_count": 96,
   "metadata": {},
   "outputs": [
    {
     "data": {
      "text/html": [
       "<div>\n",
       "<style scoped>\n",
       "    .dataframe tbody tr th:only-of-type {\n",
       "        vertical-align: middle;\n",
       "    }\n",
       "\n",
       "    .dataframe tbody tr th {\n",
       "        vertical-align: top;\n",
       "    }\n",
       "\n",
       "    .dataframe thead th {\n",
       "        text-align: right;\n",
       "    }\n",
       "</style>\n",
       "<table border=\"1\" class=\"dataframe\">\n",
       "  <thead>\n",
       "    <tr style=\"text-align: right;\">\n",
       "      <th></th>\n",
       "      <th>Id</th>\n",
       "      <th>Tag</th>\n",
       "    </tr>\n",
       "  </thead>\n",
       "  <tbody>\n",
       "    <tr>\n",
       "      <th>0</th>\n",
       "      <td>469</td>\n",
       "      <td>python</td>\n",
       "    </tr>\n",
       "    <tr>\n",
       "      <th>1</th>\n",
       "      <td>469</td>\n",
       "      <td>osx</td>\n",
       "    </tr>\n",
       "    <tr>\n",
       "      <th>2</th>\n",
       "      <td>469</td>\n",
       "      <td>fonts</td>\n",
       "    </tr>\n",
       "    <tr>\n",
       "      <th>3</th>\n",
       "      <td>469</td>\n",
       "      <td>photoshop</td>\n",
       "    </tr>\n",
       "    <tr>\n",
       "      <th>4</th>\n",
       "      <td>502</td>\n",
       "      <td>python</td>\n",
       "    </tr>\n",
       "  </tbody>\n",
       "</table>\n",
       "</div>"
      ],
      "text/plain": [
       "    Id        Tag\n",
       "0  469     python\n",
       "1  469        osx\n",
       "2  469      fonts\n",
       "3  469  photoshop\n",
       "4  502     python"
      ]
     },
     "execution_count": 96,
     "metadata": {},
     "output_type": "execute_result"
    }
   ],
   "source": [
    "tags.head()"
   ]
  },
  {
   "cell_type": "markdown",
   "metadata": {},
   "source": [
    "## **Prepare Data**"
   ]
  },
  {
   "cell_type": "markdown",
   "metadata": {},
   "source": [
    "### Convert columns to snake case"
   ]
  },
  {
   "cell_type": "code",
   "execution_count": 101,
   "metadata": {},
   "outputs": [
    {
     "data": {
      "text/plain": [
       "Index(['id', 'owner_user_id', 'creation_date', 'score', 'title', 'body'], dtype='object')"
      ]
     },
     "execution_count": 101,
     "metadata": {},
     "output_type": "execute_result"
    }
   ],
   "source": [
    "# Questions columns\n",
    "questions.columns = (questions.columns\n",
    "                     .str.replace(r'(?<!^)(?=[A-Z])', '_', regex=True)\n",
    "                     .str.lower())\n",
    "\n",
    "questions.columns"
   ]
  },
  {
   "cell_type": "code",
   "execution_count": 103,
   "metadata": {},
   "outputs": [
    {
     "data": {
      "text/plain": [
       "Index(['id', 'owner_user_id', 'creation_date', 'parent_id', 'score', 'body'], dtype='object')"
      ]
     },
     "execution_count": 103,
     "metadata": {},
     "output_type": "execute_result"
    }
   ],
   "source": [
    "# Answers columns\n",
    "answers.columns = (answers.columns\n",
    "                   .str.replace(r'(?<!^)(?=[A-Z])', '_', regex=True)\n",
    "                   .str.lower())\n",
    "\n",
    "answers.columns"
   ]
  },
  {
   "cell_type": "code",
   "execution_count": 104,
   "metadata": {},
   "outputs": [
    {
     "data": {
      "text/plain": [
       "Index(['id', 'tag'], dtype='object')"
      ]
     },
     "execution_count": 104,
     "metadata": {},
     "output_type": "execute_result"
    }
   ],
   "source": [
    "# Tags columns\n",
    "tags.columns = tags.columns.str.lower()\n",
    "\n",
    "tags.columns"
   ]
  },
  {
   "cell_type": "markdown",
   "metadata": {},
   "source": [
    "### Check for duplicates"
   ]
  },
  {
   "cell_type": "code",
   "execution_count": 86,
   "metadata": {},
   "outputs": [
    {
     "name": "stdout",
     "output_type": "stream",
     "text": [
      "Number of questions duplicates: 0\n"
     ]
    }
   ],
   "source": [
    "# Questions duplicates\n",
    "print(f'Number of questions duplicates: {questions.duplicated().sum()}')"
   ]
  },
  {
   "cell_type": "code",
   "execution_count": 85,
   "metadata": {},
   "outputs": [
    {
     "name": "stdout",
     "output_type": "stream",
     "text": [
      "Number of answer duplicates: 0\n"
     ]
    }
   ],
   "source": [
    "# Ansers duplicates\n",
    "print(f'Number of answer duplicates: {answers.duplicated().sum()}')"
   ]
  },
  {
   "cell_type": "markdown",
   "metadata": {},
   "source": [
    "### Normalize text"
   ]
  },
  {
   "cell_type": "code",
   "execution_count": null,
   "metadata": {},
   "outputs": [],
   "source": []
  },
  {
   "cell_type": "markdown",
   "metadata": {},
   "source": [
    "## **Exploratory Analysis**"
   ]
  },
  {
   "cell_type": "code",
   "execution_count": 68,
   "metadata": {},
   "outputs": [
    {
     "data": {
      "image/png": "[encoded data removed]",
      "text/plain": [
       "<Figure size 1600x800 with 4 Axes>"
      ]
     },
     "metadata": {},
     "output_type": "display_data"
    }
   ],
   "source": [
    "# Histogram and kds plot of score frequency questions and anwers\n",
    "fig, axs = plt.subplots(2, 2, figsize=(16, 8))\n",
    "\n",
    "# Questions hist\n",
    "ax0 = axs[0][0]\n",
    "\n",
    "questions['score'].plot(kind='hist', bins=100, ax=ax0,\n",
    "                        title='Distribution of Question Score Frequency')\n",
    "\n",
    "# Questions kde\n",
    "ax1 = axs[0][1]\n",
    "\n",
    "sns.kdeplot(questions['score'], ax=ax1)\n",
    "ax1.set_title('Density Plot of Question Score Frequency')\n",
    "\n",
    "# Answers hist\n",
    "ax2 = axs[1][0]\n",
    "\n",
    "answers['score'].plot(kind='hist', bins=100, ax=ax2,\n",
    "                      title='Distribution of Answer Score Frequency')\n",
    "\n",
    "# Answers kde\n",
    "ax3 = axs[1][1]\n",
    "\n",
    "sns.kdeplot(answers['score'], ax=ax3)\n",
    "ax3.set_title('Density Plot of Answer Score Frequency')\n",
    "\n",
    "# Show\n",
    "fig.tight_layout()\n",
    "plt.show()"
   ]
  },
  {
   "cell_type": "code",
   "execution_count": 77,
   "metadata": {},
   "outputs": [
    {
     "name": "stdout",
     "output_type": "stream",
     "text": [
      "Questions Scores Summary:\n",
      "\n",
      "count    607282.000000\n",
      "mean          2.283137\n",
      "std          19.285578\n",
      "min         -44.000000\n",
      "1%           -3.000000\n",
      "5%           -1.000000\n",
      "10%           0.000000\n",
      "25%           0.000000\n",
      "50%           1.000000\n",
      "75%           2.000000\n",
      "90%           4.000000\n",
      "95%           7.000000\n",
      "99%          27.000000\n",
      "max        5524.000000\n",
      "Name: score, dtype: float64\n",
      "\n",
      "Answers Scores Summary:\n",
      "\n",
      "count    987122.000000\n",
      "mean          3.028437\n",
      "std          21.263246\n",
      "min         -38.000000\n",
      "1%           -1.000000\n",
      "5%            0.000000\n",
      "10%           0.000000\n",
      "25%           0.000000\n",
      "50%           1.000000\n",
      "75%           3.000000\n",
      "90%           5.000000\n",
      "95%           9.000000\n",
      "99%          33.000000\n",
      "max        8384.000000\n",
      "Name: score, dtype: float64\n"
     ]
    }
   ],
   "source": [
    "# Questions and answers score descriptives\n",
    "ques_score_summary = questions['score'].describe(percentiles=[0.01, 0.05, 0.10, 0.25, 0.75, 0.90, 0.95, 0.99])\n",
    "answer_score_summary = answers['score'].describe(percentiles=[0.01, 0.05, 0.10, 0.25, 0.75, 0.90, 0.95, 0.99])\n",
    "\n",
    "print('Questions Scores Summary:')\n",
    "print()\n",
    "print(ques_score_summary)\n",
    "print()\n",
    "print('Answers Scores Summary:')\n",
    "print()\n",
    "print(answer_score_summary)"
   ]
  },
  {
   "cell_type": "code",
   "execution_count": 80,
   "metadata": {},
   "outputs": [
    {
     "name": "stdout",
     "output_type": "stream",
     "text": [
      "Questions with score > 33 (99th percentile)\n"
     ]
    },
    {
     "data": {
      "text/html": [
       "<div>\n",
       "<style scoped>\n",
       "    .dataframe tbody tr th:only-of-type {\n",
       "        vertical-align: middle;\n",
       "    }\n",
       "\n",
       "    .dataframe tbody tr th {\n",
       "        vertical-align: top;\n",
       "    }\n",
       "\n",
       "    .dataframe thead th {\n",
       "        text-align: right;\n",
       "    }\n",
       "</style>\n",
       "<table border=\"1\" class=\"dataframe\">\n",
       "  <thead>\n",
       "    <tr style=\"text-align: right;\">\n",
       "      <th></th>\n",
       "      <th>id</th>\n",
       "      <th>owneruserid</th>\n",
       "      <th>creationdate</th>\n",
       "      <th>score</th>\n",
       "      <th>title</th>\n",
       "      <th>body</th>\n",
       "    </tr>\n",
       "  </thead>\n",
       "  <tbody>\n",
       "    <tr>\n",
       "      <th>2</th>\n",
       "      <td>535</td>\n",
       "      <td>154.0</td>\n",
       "      <td>2008-08-02T18:43:54Z</td>\n",
       "      <td>40</td>\n",
       "      <td>Continuous Integration System for a Python Cod...</td>\n",
       "      <td>&lt;p&gt;I'm starting work on a hobby project with a...</td>\n",
       "    </tr>\n",
       "    <tr>\n",
       "      <th>4</th>\n",
       "      <td>683</td>\n",
       "      <td>199.0</td>\n",
       "      <td>2008-08-03T13:19:16Z</td>\n",
       "      <td>28</td>\n",
       "      <td>Using 'in' to match an attribute of Python obj...</td>\n",
       "      <td>&lt;p&gt;I don't remember whether I was dreaming or ...</td>\n",
       "    </tr>\n",
       "    <tr>\n",
       "      <th>5</th>\n",
       "      <td>742</td>\n",
       "      <td>189.0</td>\n",
       "      <td>2008-08-03T15:55:28Z</td>\n",
       "      <td>30</td>\n",
       "      <td>Class views in Django</td>\n",
       "      <td>&lt;p&gt;&lt;a href=\"http://www.djangoproject.com/\"&gt;Dja...</td>\n",
       "    </tr>\n",
       "    <tr>\n",
       "      <th>7</th>\n",
       "      <td>773</td>\n",
       "      <td>207.0</td>\n",
       "      <td>2008-08-03T18:27:09Z</td>\n",
       "      <td>256</td>\n",
       "      <td>How do I use Python's itertools.groupby()?</td>\n",
       "      <td>&lt;p&gt;I haven't been able to find an understandab...</td>\n",
       "    </tr>\n",
       "    <tr>\n",
       "      <th>8</th>\n",
       "      <td>972</td>\n",
       "      <td>145.0</td>\n",
       "      <td>2008-08-04T02:17:51Z</td>\n",
       "      <td>364</td>\n",
       "      <td>Adding a Method to an Existing Object Instance</td>\n",
       "      <td>&lt;p&gt;I've read that it is possible to add a meth...</td>\n",
       "    </tr>\n",
       "    <tr>\n",
       "      <th>...</th>\n",
       "      <td>...</td>\n",
       "      <td>...</td>\n",
       "      <td>...</td>\n",
       "      <td>...</td>\n",
       "      <td>...</td>\n",
       "      <td>...</td>\n",
       "    </tr>\n",
       "    <tr>\n",
       "      <th>597533</th>\n",
       "      <td>39779538</td>\n",
       "      <td>178732.0</td>\n",
       "      <td>2016-09-29T20:35:58Z</td>\n",
       "      <td>35</td>\n",
       "      <td>How to get lineno of \"end-of-statement\" in Pyt...</td>\n",
       "      <td>&lt;p&gt;I am trying to work on a script that manipu...</td>\n",
       "    </tr>\n",
       "    <tr>\n",
       "      <th>599214</th>\n",
       "      <td>39843488</td>\n",
       "      <td>336527.0</td>\n",
       "      <td>2016-10-04T03:00:56Z</td>\n",
       "      <td>41</td>\n",
       "      <td>How to make an integer larger than any other i...</td>\n",
       "      <td>&lt;p&gt;Note: while the accepted answer achieves th...</td>\n",
       "    </tr>\n",
       "    <tr>\n",
       "      <th>600687</th>\n",
       "      <td>39903242</td>\n",
       "      <td>5149992.0</td>\n",
       "      <td>2016-10-06T18:29:51Z</td>\n",
       "      <td>32</td>\n",
       "      <td>Is there a more Pythonic way to combine an Els...</td>\n",
       "      <td>&lt;p&gt;I have a piece of code that searches AutoCA...</td>\n",
       "    </tr>\n",
       "    <tr>\n",
       "      <th>602793</th>\n",
       "      <td>39980323</td>\n",
       "      <td>6260170.0</td>\n",
       "      <td>2016-10-11T14:59:23Z</td>\n",
       "      <td>72</td>\n",
       "      <td>Dictionaries are ordered in Python 3.6</td>\n",
       "      <td>&lt;p&gt;Dictionaries are ordered in Python 3.6, unl...</td>\n",
       "    </tr>\n",
       "    <tr>\n",
       "      <th>603861</th>\n",
       "      <td>40018398</td>\n",
       "      <td>3124746.0</td>\n",
       "      <td>2016-10-13T10:25:25Z</td>\n",
       "      <td>54</td>\n",
       "      <td>list() uses more memory than list comprehension</td>\n",
       "      <td>&lt;p&gt;So i was playing with &lt;code&gt;list&lt;/code&gt; obj...</td>\n",
       "    </tr>\n",
       "  </tbody>\n",
       "</table>\n",
       "<p>5806 rows × 6 columns</p>\n",
       "</div>"
      ],
      "text/plain": [
       "              id  owneruserid          creationdate  score  \\\n",
       "2            535        154.0  2008-08-02T18:43:54Z     40   \n",
       "4            683        199.0  2008-08-03T13:19:16Z     28   \n",
       "5            742        189.0  2008-08-03T15:55:28Z     30   \n",
       "7            773        207.0  2008-08-03T18:27:09Z    256   \n",
       "8            972        145.0  2008-08-04T02:17:51Z    364   \n",
       "...          ...          ...                   ...    ...   \n",
       "597533  39779538     178732.0  2016-09-29T20:35:58Z     35   \n",
       "599214  39843488     336527.0  2016-10-04T03:00:56Z     41   \n",
       "600687  39903242    5149992.0  2016-10-06T18:29:51Z     32   \n",
       "602793  39980323    6260170.0  2016-10-11T14:59:23Z     72   \n",
       "603861  40018398    3124746.0  2016-10-13T10:25:25Z     54   \n",
       "\n",
       "                                                    title  \\\n",
       "2       Continuous Integration System for a Python Cod...   \n",
       "4       Using 'in' to match an attribute of Python obj...   \n",
       "5                                   Class views in Django   \n",
       "7              How do I use Python's itertools.groupby()?   \n",
       "8          Adding a Method to an Existing Object Instance   \n",
       "...                                                   ...   \n",
       "597533  How to get lineno of \"end-of-statement\" in Pyt...   \n",
       "599214  How to make an integer larger than any other i...   \n",
       "600687  Is there a more Pythonic way to combine an Els...   \n",
       "602793             Dictionaries are ordered in Python 3.6   \n",
       "603861    list() uses more memory than list comprehension   \n",
       "\n",
       "                                                     body  \n",
       "2       <p>I'm starting work on a hobby project with a...  \n",
       "4       <p>I don't remember whether I was dreaming or ...  \n",
       "5       <p><a href=\"http://www.djangoproject.com/\">Dja...  \n",
       "7       <p>I haven't been able to find an understandab...  \n",
       "8       <p>I've read that it is possible to add a meth...  \n",
       "...                                                   ...  \n",
       "597533  <p>I am trying to work on a script that manipu...  \n",
       "599214  <p>Note: while the accepted answer achieves th...  \n",
       "600687  <p>I have a piece of code that searches AutoCA...  \n",
       "602793  <p>Dictionaries are ordered in Python 3.6, unl...  \n",
       "603861  <p>So i was playing with <code>list</code> obj...  \n",
       "\n",
       "[5806 rows x 6 columns]"
      ]
     },
     "execution_count": 80,
     "metadata": {},
     "output_type": "execute_result"
    }
   ],
   "source": [
    "# View question rows with scores > 99th percentile\n",
    "print('Questions with score > 27 (99th percentile)')\n",
    "questions[questions['score'] > 27]"
   ]
  },
  {
   "cell_type": "code",
   "execution_count": 81,
   "metadata": {},
   "outputs": [
    {
     "name": "stdout",
     "output_type": "stream",
     "text": [
      "Ansers with score > 33 (99th percentile)\n"
     ]
    },
    {
     "data": {
      "text/html": [
       "<div>\n",
       "<style scoped>\n",
       "    .dataframe tbody tr th:only-of-type {\n",
       "        vertical-align: middle;\n",
       "    }\n",
       "\n",
       "    .dataframe tbody tr th {\n",
       "        vertical-align: top;\n",
       "    }\n",
       "\n",
       "    .dataframe thead th {\n",
       "        text-align: right;\n",
       "    }\n",
       "</style>\n",
       "<table border=\"1\" class=\"dataframe\">\n",
       "  <thead>\n",
       "    <tr style=\"text-align: right;\">\n",
       "      <th></th>\n",
       "      <th>id</th>\n",
       "      <th>owneruserid</th>\n",
       "      <th>creationdate</th>\n",
       "      <th>parentid</th>\n",
       "      <th>score</th>\n",
       "      <th>body</th>\n",
       "    </tr>\n",
       "  </thead>\n",
       "  <tbody>\n",
       "    <tr>\n",
       "      <th>13</th>\n",
       "      <td>783</td>\n",
       "      <td>189.0</td>\n",
       "      <td>2008-08-03T18:40:09Z</td>\n",
       "      <td>773</td>\n",
       "      <td>52</td>\n",
       "      <td>&lt;p&gt;Can you show us your code?&lt;/p&gt;\\n\\n&lt;p&gt;The ex...</td>\n",
       "    </tr>\n",
       "    <tr>\n",
       "      <th>19</th>\n",
       "      <td>1484</td>\n",
       "      <td>2089740.0</td>\n",
       "      <td>2008-08-04T18:34:45Z</td>\n",
       "      <td>1476</td>\n",
       "      <td>57</td>\n",
       "      <td>&lt;pre&gt;&lt;code&gt;&amp;gt;&amp;gt;&amp;gt; print int('01010101111...</td>\n",
       "    </tr>\n",
       "    <tr>\n",
       "      <th>24</th>\n",
       "      <td>1857</td>\n",
       "      <td>2089740.0</td>\n",
       "      <td>2008-08-05T03:27:03Z</td>\n",
       "      <td>1854</td>\n",
       "      <td>341</td>\n",
       "      <td>&lt;pre&gt;&lt;code&gt;&amp;gt;&amp;gt;&amp;gt; import os\\n&amp;gt;&amp;gt;&amp;gt...</td>\n",
       "    </tr>\n",
       "    <tr>\n",
       "      <th>26</th>\n",
       "      <td>1871</td>\n",
       "      <td>216.0</td>\n",
       "      <td>2008-08-05T03:57:22Z</td>\n",
       "      <td>1854</td>\n",
       "      <td>112</td>\n",
       "      <td>&lt;p&gt;Dang -- lbrandy beat me to the punch, but t...</td>\n",
       "    </tr>\n",
       "    <tr>\n",
       "      <th>27</th>\n",
       "      <td>1879</td>\n",
       "      <td>116.0</td>\n",
       "      <td>2008-08-05T04:13:53Z</td>\n",
       "      <td>1854</td>\n",
       "      <td>91</td>\n",
       "      <td>&lt;p&gt;For the record here's the results on Mac:&lt;/...</td>\n",
       "    </tr>\n",
       "    <tr>\n",
       "      <th>...</th>\n",
       "      <td>...</td>\n",
       "      <td>...</td>\n",
       "      <td>...</td>\n",
       "      <td>...</td>\n",
       "      <td>...</td>\n",
       "      <td>...</td>\n",
       "    </tr>\n",
       "    <tr>\n",
       "      <th>970166</th>\n",
       "      <td>39619467</td>\n",
       "      <td>1204143.0</td>\n",
       "      <td>2016-09-21T14:30:11Z</td>\n",
       "      <td>39618943</td>\n",
       "      <td>287</td>\n",
       "      <td>&lt;p&gt;The simple answer is because &lt;code&gt;3*0.1 !=...</td>\n",
       "    </tr>\n",
       "    <tr>\n",
       "      <th>977244</th>\n",
       "      <td>39843523</td>\n",
       "      <td>674039.0</td>\n",
       "      <td>2016-10-04T03:04:16Z</td>\n",
       "      <td>39843488</td>\n",
       "      <td>61</td>\n",
       "      <td>&lt;p&gt;Since python integers are unbounded, you ha...</td>\n",
       "    </tr>\n",
       "    <tr>\n",
       "      <th>979093</th>\n",
       "      <td>39903519</td>\n",
       "      <td>3155933.0</td>\n",
       "      <td>2016-10-06T18:45:36Z</td>\n",
       "      <td>39903242</td>\n",
       "      <td>63</td>\n",
       "      <td>&lt;p&gt;Use &lt;code&gt;dict.get()&lt;/code&gt; which will retu...</td>\n",
       "    </tr>\n",
       "    <tr>\n",
       "      <th>981661</th>\n",
       "      <td>39980744</td>\n",
       "      <td>4952130.0</td>\n",
       "      <td>2016-10-11T15:17:53Z</td>\n",
       "      <td>39980323</td>\n",
       "      <td>57</td>\n",
       "      <td>&lt;blockquote&gt;\\n  &lt;p&gt;How does the Python 3.6 dic...</td>\n",
       "    </tr>\n",
       "    <tr>\n",
       "      <th>982948</th>\n",
       "      <td>40018719</td>\n",
       "      <td>948550.0</td>\n",
       "      <td>2016-10-13T10:40:13Z</td>\n",
       "      <td>40018398</td>\n",
       "      <td>41</td>\n",
       "      <td>&lt;p&gt;I think you're seeing over-allocation patte...</td>\n",
       "    </tr>\n",
       "  </tbody>\n",
       "</table>\n",
       "<p>9618 rows × 6 columns</p>\n",
       "</div>"
      ],
      "text/plain": [
       "              id  owneruserid          creationdate  parentid  score  \\\n",
       "13           783        189.0  2008-08-03T18:40:09Z       773     52   \n",
       "19          1484    2089740.0  2008-08-04T18:34:45Z      1476     57   \n",
       "24          1857    2089740.0  2008-08-05T03:27:03Z      1854    341   \n",
       "26          1871        216.0  2008-08-05T03:57:22Z      1854    112   \n",
       "27          1879        116.0  2008-08-05T04:13:53Z      1854     91   \n",
       "...          ...          ...                   ...       ...    ...   \n",
       "970166  39619467    1204143.0  2016-09-21T14:30:11Z  39618943    287   \n",
       "977244  39843523     674039.0  2016-10-04T03:04:16Z  39843488     61   \n",
       "979093  39903519    3155933.0  2016-10-06T18:45:36Z  39903242     63   \n",
       "981661  39980744    4952130.0  2016-10-11T15:17:53Z  39980323     57   \n",
       "982948  40018719     948550.0  2016-10-13T10:40:13Z  40018398     41   \n",
       "\n",
       "                                                     body  \n",
       "13      <p>Can you show us your code?</p>\\n\\n<p>The ex...  \n",
       "19      <pre><code>&gt;&gt;&gt; print int('01010101111...  \n",
       "24      <pre><code>&gt;&gt;&gt; import os\\n&gt;&gt;&gt...  \n",
       "26      <p>Dang -- lbrandy beat me to the punch, but t...  \n",
       "27      <p>For the record here's the results on Mac:</...  \n",
       "...                                                   ...  \n",
       "970166  <p>The simple answer is because <code>3*0.1 !=...  \n",
       "977244  <p>Since python integers are unbounded, you ha...  \n",
       "979093  <p>Use <code>dict.get()</code> which will retu...  \n",
       "981661  <blockquote>\\n  <p>How does the Python 3.6 dic...  \n",
       "982948  <p>I think you're seeing over-allocation patte...  \n",
       "\n",
       "[9618 rows x 6 columns]"
      ]
     },
     "execution_count": 81,
     "metadata": {},
     "output_type": "execute_result"
    }
   ],
   "source": [
    "# View answer rows with scores > 99th percentile\n",
    "print('Ansers with score > 33 (99th percentile)')\n",
    "answers[answers['score'] > 33]"
   ]
  },
  {
   "cell_type": "code",
   "execution_count": null,
   "metadata": {},
   "outputs": [],
   "source": []
  }
 ],
 "metadata": {
  "kernelspec": {
   "display_name": "base",
   "language": "python",
   "name": "python3"
  },
  "language_info": {
   "codemirror_mode": {
    "name": "ipython",
    "version": 3
   },
   "file_extension": ".py",
   "mimetype": "text/x-python",
   "name": "python",
   "nbconvert_exporter": "python",
   "pygments_lexer": "ipython3",
   "version": "3.10.9"
  },
  "orig_nbformat": 4
 },
 "nbformat": 4,
 "nbformat_minor": 2
}
